{
  "nbformat": 4,
  "nbformat_minor": 0,
  "metadata": {
    "colab": {
      "name": "fastnal.ipynb",
      "provenance": [],
      "collapsed_sections": [],
      "include_colab_link": true
    },
    "kernelspec": {
      "name": "python3",
      "display_name": "Python 3"
    },
    "language_info": {
      "name": "python"
    }
  },
  "cells": [
    {
      "cell_type": "markdown",
      "metadata": {
        "id": "view-in-github",
        "colab_type": "text"
      },
      "source": [
        "<a href=\"https://colab.research.google.com/github/chandanabms/action-item-tracker/blob/main/fastnal.ipynb\" target=\"_parent\"><img src=\"https://colab.research.google.com/assets/colab-badge.svg\" alt=\"Open In Colab\"/></a>"
      ]
    },
    {
      "cell_type": "code",
      "execution_count": null,
      "metadata": {
        "id": "Mp7B2rkb6nhS"
      },
      "outputs": [],
      "source": [
        "import requests\n",
        "from bs4 import BeautifulSoup\n",
        "from urllib.error import URLError\n",
        "import pandas as pd\n",
        "import datetime\n",
        "from openpyxl import Workbook\n",
        "import time\n",
        "\n",
        "# Add a fake user agent to immitate a real browser.\n",
        "# There is a good chance of being banned from the site if you continue this code.\n",
        "\n",
        "# id = [1131961,1131959,1131945,1131806,0173917]\n",
        "headers = {'User-Agent': 'Mozilla/5.0 (Windows NT 6.1; WOW64) AppleWebKit/537.36 (KHTML, like Gecko) Chrome/56.0.2924.76 Safari/537.36', \"Upgrade-Insecure-Requests\": \"1\",\"DNT\": \"1\",\"Accept\": \"text/html,application/xhtml+xml,application/xml;q=0.9,*/*;q=0.8\",\"Accept-Language\": \"en-US,en;q=0.5\",\"Accept-Encoding\": \"gzip, deflate\"}\n",
        "base_url = \"https://www.fastenal.com/products/details/\"\n",
        "item_id = \"0173917\"\n",
        "\n",
        "# Read item_id from the list, bind the base URL and get details\n",
        "item_id_list = [\"123abcd\",\"1131961\", \"1131959\", \"1131945\"]\n",
        "\n",
        "url = base_url+item_id_list[1]\n",
        "print(url)\n",
        "if url == base_url+item_id_list[0]:\n",
        "  print(\"no mathes found! wrong product id\")\n",
        "else:\n",
        "    response = requests.get(url)\n",
        "    response.raise_for_status()\n",
        "    soup = BeautifulSoup(response.text, 'html.parser')\n",
        "    a=[]\n",
        "    table = soup.find(\"div\",class_='info--description ').text\n",
        "    a.append(table)\n",
        "    b=[]\n",
        "    tab = soup.find(\"table\",class_=\"table product__attribute--info\").findAll('tr')\n",
        "    for i in tab:\n",
        "       val = i.text\n",
        "       b.append(val)\n",
        "      #  print(b)\n",
        "       rep = []\n",
        "       for x in b:\n",
        "         rep.append(x.replace(\"\\n\", \"\"))\n",
        "        #  print(list(rep))\n",
        "      #  break\n",
        "    df = pd.DataFrame(a)  \n",
        "    print(df.to_markdown()) \n",
        "\n",
        "if __name__ == '__main__':\n",
        "  wb = Workbook()\n",
        "  ws = wb.active\n",
        "  ws.cell(row=1, column=1).value = \"Current Date and Time\"\n",
        "  ws.cell(row=2, column=1).value = datetime.datetime.now().strftime('%Y-%m-%d %H:%M:%S')\n",
        "  time.sleep(2)\n",
        "  ws.cell(row=1,column=2).value=\"product url\"\n",
        "  ws.cell(row=2,column=2).value=url\n",
        "  time.sleep(2)\n",
        "  ws.cell(row=1,column=3).value=\"product description\"\n",
        "  ws.cell(row=2,column=3).value=a[0]\n",
        "  time.sleep(2)\n",
        "  ws.cell(row=1,column=4).value=\"product values\"\n",
        "  ws.cell(row=2,column=4).value=rep[0]\n",
        "  ws.cell(row=1,column=5).value=\"attribute value\"\n",
        "  ws.cell(row=2,column=5).value=rep[1]\n",
        "  ws.cell(row=1,column=6).value=\"attribute value\"\n",
        "  ws.cell(row=2,column=6).value=rep[2]\n",
        "  wb.save('fastnal2.xlsx')\n",
        "  wb.close()"
      ]
    }
  ]
}